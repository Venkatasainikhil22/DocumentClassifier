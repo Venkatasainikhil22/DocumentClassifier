{
  "nbformat": 4,
  "nbformat_minor": 0,
  "metadata": {
    "colab": {
      "provenance": []
    },
    "kernelspec": {
      "name": "python3",
      "display_name": "Python 3"
    },
    "language_info": {
      "name": "python"
    }
  },
  "cells": [
    {
      "cell_type": "code",
      "execution_count": 1,
      "metadata": {
        "colab": {
          "base_uri": "https://localhost:8080/"
        },
        "id": "6XAP_6RJAWrb",
        "outputId": "e9159928-f8f3-43f0-f607-a06b2bc5ecfe"
      },
      "outputs": [
        {
          "output_type": "stream",
          "name": "stdout",
          "text": [
            "Collecting symspellpy\n",
            "  Downloading symspellpy-6.7.7-py3-none-any.whl (2.6 MB)\n",
            "\u001b[2K     \u001b[90m━━━━━━━━━━━━━━━━━━━━━━━━━━━━━━━━━━━━━━━━\u001b[0m \u001b[32m2.6/2.6 MB\u001b[0m \u001b[31m10.0 MB/s\u001b[0m eta \u001b[36m0:00:00\u001b[0m\n",
            "\u001b[?25hCollecting editdistpy>=0.1.3 (from symspellpy)\n",
            "  Downloading editdistpy-0.1.3.tar.gz (57 kB)\n",
            "\u001b[2K     \u001b[90m━━━━━━━━━━━━━━━━━━━━━━━━━━━━━━━━━━━━━━━━\u001b[0m \u001b[32m57.2/57.2 kB\u001b[0m \u001b[31m4.8 MB/s\u001b[0m eta \u001b[36m0:00:00\u001b[0m\n",
            "\u001b[?25h  Installing build dependencies ... \u001b[?25l\u001b[?25hdone\n",
            "  Getting requirements to build wheel ... \u001b[?25l\u001b[?25hdone\n",
            "  Preparing metadata (pyproject.toml) ... \u001b[?25l\u001b[?25hdone\n",
            "Building wheels for collected packages: editdistpy\n",
            "  Building wheel for editdistpy (pyproject.toml) ... \u001b[?25l\u001b[?25hdone\n",
            "  Created wheel for editdistpy: filename=editdistpy-0.1.3-cp310-cp310-linux_x86_64.whl size=187467 sha256=3075c4bc476b74201df974f424bbcaf4a6d09d02f4fbf207125bb2f326c4d25f\n",
            "  Stored in directory: /root/.cache/pip/wheels/88/6a/a6/a1283cc145323a1fb3d475bd158ee60b248ab1985230d266fc\n",
            "Successfully built editdistpy\n",
            "Installing collected packages: editdistpy, symspellpy\n",
            "Successfully installed editdistpy-0.1.3 symspellpy-6.7.7\n",
            "Collecting easyocr\n",
            "  Downloading easyocr-1.7.1-py3-none-any.whl (2.9 MB)\n",
            "\u001b[2K     \u001b[90m━━━━━━━━━━━━━━━━━━━━━━━━━━━━━━━━━━━━━━━━\u001b[0m \u001b[32m2.9/2.9 MB\u001b[0m \u001b[31m10.8 MB/s\u001b[0m eta \u001b[36m0:00:00\u001b[0m\n",
            "\u001b[?25hRequirement already satisfied: torch in /usr/local/lib/python3.10/dist-packages (from easyocr) (2.1.0+cu121)\n",
            "Requirement already satisfied: torchvision>=0.5 in /usr/local/lib/python3.10/dist-packages (from easyocr) (0.16.0+cu121)\n",
            "Requirement already satisfied: opencv-python-headless in /usr/local/lib/python3.10/dist-packages (from easyocr) (4.8.1.78)\n",
            "Requirement already satisfied: scipy in /usr/local/lib/python3.10/dist-packages (from easyocr) (1.11.4)\n",
            "Requirement already satisfied: numpy in /usr/local/lib/python3.10/dist-packages (from easyocr) (1.23.5)\n",
            "Requirement already satisfied: Pillow in /usr/local/lib/python3.10/dist-packages (from easyocr) (9.4.0)\n",
            "Requirement already satisfied: scikit-image in /usr/local/lib/python3.10/dist-packages (from easyocr) (0.19.3)\n",
            "Collecting python-bidi (from easyocr)\n",
            "  Downloading python_bidi-0.4.2-py2.py3-none-any.whl (30 kB)\n",
            "Requirement already satisfied: PyYAML in /usr/local/lib/python3.10/dist-packages (from easyocr) (6.0.1)\n",
            "Requirement already satisfied: Shapely in /usr/local/lib/python3.10/dist-packages (from easyocr) (2.0.2)\n",
            "Collecting pyclipper (from easyocr)\n",
            "  Downloading pyclipper-1.3.0.post5-cp310-cp310-manylinux_2_12_x86_64.manylinux2010_x86_64.whl (908 kB)\n",
            "\u001b[2K     \u001b[90m━━━━━━━━━━━━━━━━━━━━━━━━━━━━━━━━━━━━━━━━\u001b[0m \u001b[32m908.3/908.3 kB\u001b[0m \u001b[31m15.3 MB/s\u001b[0m eta \u001b[36m0:00:00\u001b[0m\n",
            "\u001b[?25hCollecting ninja (from easyocr)\n",
            "  Downloading ninja-1.11.1.1-py2.py3-none-manylinux1_x86_64.manylinux_2_5_x86_64.whl (307 kB)\n",
            "\u001b[2K     \u001b[90m━━━━━━━━━━━━━━━━━━━━━━━━━━━━━━━━━━━━━━━━\u001b[0m \u001b[32m307.2/307.2 kB\u001b[0m \u001b[31m15.6 MB/s\u001b[0m eta \u001b[36m0:00:00\u001b[0m\n",
            "\u001b[?25hRequirement already satisfied: requests in /usr/local/lib/python3.10/dist-packages (from torchvision>=0.5->easyocr) (2.31.0)\n",
            "Requirement already satisfied: filelock in /usr/local/lib/python3.10/dist-packages (from torch->easyocr) (3.13.1)\n",
            "Requirement already satisfied: typing-extensions in /usr/local/lib/python3.10/dist-packages (from torch->easyocr) (4.5.0)\n",
            "Requirement already satisfied: sympy in /usr/local/lib/python3.10/dist-packages (from torch->easyocr) (1.12)\n",
            "Requirement already satisfied: networkx in /usr/local/lib/python3.10/dist-packages (from torch->easyocr) (3.2.1)\n",
            "Requirement already satisfied: jinja2 in /usr/local/lib/python3.10/dist-packages (from torch->easyocr) (3.1.2)\n",
            "Requirement already satisfied: fsspec in /usr/local/lib/python3.10/dist-packages (from torch->easyocr) (2023.6.0)\n",
            "Requirement already satisfied: triton==2.1.0 in /usr/local/lib/python3.10/dist-packages (from torch->easyocr) (2.1.0)\n",
            "Requirement already satisfied: six in /usr/local/lib/python3.10/dist-packages (from python-bidi->easyocr) (1.16.0)\n",
            "Requirement already satisfied: imageio>=2.4.1 in /usr/local/lib/python3.10/dist-packages (from scikit-image->easyocr) (2.31.6)\n",
            "Requirement already satisfied: tifffile>=2019.7.26 in /usr/local/lib/python3.10/dist-packages (from scikit-image->easyocr) (2023.12.9)\n",
            "Requirement already satisfied: PyWavelets>=1.1.1 in /usr/local/lib/python3.10/dist-packages (from scikit-image->easyocr) (1.5.0)\n",
            "Requirement already satisfied: packaging>=20.0 in /usr/local/lib/python3.10/dist-packages (from scikit-image->easyocr) (23.2)\n",
            "Requirement already satisfied: MarkupSafe>=2.0 in /usr/local/lib/python3.10/dist-packages (from jinja2->torch->easyocr) (2.1.3)\n",
            "Requirement already satisfied: charset-normalizer<4,>=2 in /usr/local/lib/python3.10/dist-packages (from requests->torchvision>=0.5->easyocr) (3.3.2)\n",
            "Requirement already satisfied: idna<4,>=2.5 in /usr/local/lib/python3.10/dist-packages (from requests->torchvision>=0.5->easyocr) (3.6)\n",
            "Requirement already satisfied: urllib3<3,>=1.21.1 in /usr/local/lib/python3.10/dist-packages (from requests->torchvision>=0.5->easyocr) (2.0.7)\n",
            "Requirement already satisfied: certifi>=2017.4.17 in /usr/local/lib/python3.10/dist-packages (from requests->torchvision>=0.5->easyocr) (2023.11.17)\n",
            "Requirement already satisfied: mpmath>=0.19 in /usr/local/lib/python3.10/dist-packages (from sympy->torch->easyocr) (1.3.0)\n",
            "Installing collected packages: pyclipper, ninja, python-bidi, easyocr\n",
            "Successfully installed easyocr-1.7.1 ninja-1.11.1.1 pyclipper-1.3.0.post5 python-bidi-0.4.2\n"
          ]
        }
      ],
      "source": [
        "!pip install symspellpy\n",
        "!pip install easyocr"
      ]
    },
    {
      "cell_type": "code",
      "source": [
        "!pip install PyMuPDF Pillow"
      ],
      "metadata": {
        "colab": {
          "base_uri": "https://localhost:8080/"
        },
        "id": "pzTzbl8YacpU",
        "outputId": "364acb87-9e7a-43a7-87c2-cc438b60dbb2"
      },
      "execution_count": 2,
      "outputs": [
        {
          "output_type": "stream",
          "name": "stdout",
          "text": [
            "Collecting PyMuPDF\n",
            "  Downloading PyMuPDF-1.23.8-cp310-none-manylinux2014_x86_64.whl (4.4 MB)\n",
            "\u001b[2K     \u001b[90m━━━━━━━━━━━━━━━━━━━━━━━━━━━━━━━━━━━━━━━━\u001b[0m \u001b[32m4.4/4.4 MB\u001b[0m \u001b[31m13.3 MB/s\u001b[0m eta \u001b[36m0:00:00\u001b[0m\n",
            "\u001b[?25hRequirement already satisfied: Pillow in /usr/local/lib/python3.10/dist-packages (9.4.0)\n",
            "Collecting PyMuPDFb==1.23.7 (from PyMuPDF)\n",
            "  Downloading PyMuPDFb-1.23.7-py3-none-manylinux2014_x86_64.manylinux_2_17_x86_64.whl (30.6 MB)\n",
            "\u001b[2K     \u001b[90m━━━━━━━━━━━━━━━━━━━━━━━━━━━━━━━━━━━━━━━━\u001b[0m \u001b[32m30.6/30.6 MB\u001b[0m \u001b[31m44.3 MB/s\u001b[0m eta \u001b[36m0:00:00\u001b[0m\n",
            "\u001b[?25hInstalling collected packages: PyMuPDFb, PyMuPDF\n",
            "Successfully installed PyMuPDF-1.23.8 PyMuPDFb-1.23.7\n"
          ]
        }
      ]
    },
    {
      "cell_type": "code",
      "source": [
        "import os\n",
        "import pkg_resources\n",
        "from symspellpy import SymSpell, Verbosity\n",
        "import easyocr"
      ],
      "metadata": {
        "id": "Rl5AEIzUA0DP"
      },
      "execution_count": 3,
      "outputs": []
    },
    {
      "cell_type": "markdown",
      "source": [
        "# Initialize SymSpell"
      ],
      "metadata": {
        "id": "gC9mAOCgBo8U"
      }
    },
    {
      "cell_type": "code",
      "source": [
        "sym_spell = SymSpell(max_dictionary_edit_distance=2)\n",
        "dictionary_path = pkg_resources.resource_filename(\"symspellpy\", \"frequency_dictionary_en_82_765.txt\")\n",
        "sym_spell.load_dictionary(dictionary_path, term_index=0, count_index=1)"
      ],
      "metadata": {
        "colab": {
          "base_uri": "https://localhost:8080/"
        },
        "id": "8ygwb9n9A3lh",
        "outputId": "7511d544-ca2b-477c-d9d3-7a9ac94954bb"
      },
      "execution_count": 4,
      "outputs": [
        {
          "output_type": "execute_result",
          "data": {
            "text/plain": [
              "True"
            ]
          },
          "metadata": {},
          "execution_count": 4
        }
      ]
    },
    {
      "cell_type": "markdown",
      "source": [
        "# Initialize EasyOCR Reader"
      ],
      "metadata": {
        "id": "_wP-7cqyysuW"
      }
    },
    {
      "cell_type": "code",
      "source": [
        "def recognize_text_with_correction(img_path):\n",
        "    reader = easyocr.Reader(['en'], gpu=False, verbose=False)\n",
        "    result = reader.readtext(img_path)\n",
        "\n",
        "    valid_document_found = False\n",
        "\n",
        "    for i in range(len(result)):\n",
        "        for j in range(len(result[i])):\n",
        "            current_text = str(result[i][j]).lower()\n",
        "            suggestions = sym_spell.lookup_compound(current_text, 2)\n",
        "            corrected_text = suggestions[0].term if suggestions else current_text\n",
        "\n",
        "            if \"income tax department\" in corrected_text or \"permanent account number\" in corrected_text or \"govt of india\" in corrected_text:\n",
        "                print(f'Image: {img_path}, Text: Pan Card')\n",
        "                valid_document_found = True\n",
        "                break\n",
        "            elif \"government of india\" in corrected_text:\n",
        "                print(f'Image: {img_path}, Text: Aadhar Card')\n",
        "                valid_document_found = True\n",
        "                break\n",
        "            elif \"driving licence\" in corrected_text:\n",
        "                print(f'Image: {img_path}, Text: Driving Licence')\n",
        "                valid_document_found = True\n",
        "                break\n",
        "            elif \"election\" in corrected_text:\n",
        "                print(f'Image: {img_path}, Text: Voter ID')\n",
        "                valid_document_found = True\n",
        "                break\n",
        "            elif \"republic\" in corrected_text or \"spouse\" in corrected_text or \"old passport\" in corrected_text:\n",
        "                print(f'Image: {img_path}, Text: Passport')\n",
        "                valid_document_found = True\n",
        "                break\n",
        "\n",
        "        if valid_document_found:\n",
        "            break\n",
        "\n",
        "    if not valid_document_found:\n",
        "        print(f'Image: {img_path}, Text: Not a valid document')"
      ],
      "metadata": {
        "id": "1LLgMU8YA7R_"
      },
      "execution_count": 10,
      "outputs": []
    },
    {
      "cell_type": "code",
      "source": [
        "import os\n",
        "import fitz\n",
        "from PIL import Image\n",
        "\n",
        "colab_directory = '/content/'\n",
        "\n",
        "def convert_pdf_to_images(pdf_path, output_directory):\n",
        "    images = []\n",
        "    pdf_document = fitz.open(pdf_path)\n",
        "\n",
        "    for page_num in range(pdf_document.page_count):\n",
        "        page = pdf_document[page_num]\n",
        "        image = page.get_pixmap()\n",
        "        images.append(Image.frombytes(\"RGB\", [image.width, image.height], image.samples))\n",
        "\n",
        "    pdf_document.close()\n",
        "\n",
        "    converted_paths = [] # Save the converted images to the specified output directory\n",
        "    for i, img in enumerate(images):\n",
        "        page_filename = f\"{os.path.splitext(os.path.basename(pdf_path))[0]}_page_{i}.png\"\n",
        "        output_path = os.path.join(output_directory, page_filename)\n",
        "        img.save(output_path)\n",
        "        converted_paths.append(output_path)\n",
        "        print(f\"Converted and saved: {output_path}\")\n",
        "\n",
        "    return converted_paths\n",
        "\n",
        "converted_directory = os.path.join(colab_directory, 'converted_images') # Create a subdirectory for converted images\n",
        "os.makedirs(converted_directory, exist_ok=True)\n",
        "\n",
        "image_paths = []\n",
        "\n",
        "for filename in os.listdir(colab_directory):\n",
        "    if filename.lower().endswith(('.png', '.jpg', '.jpeg', '.webp')):\n",
        "        image_path = os.path.join(colab_directory, filename)\n",
        "        image_paths.append(image_path)\n",
        "    elif filename.lower().endswith('.pdf'):\n",
        "        pdf_path = os.path.join(colab_directory, filename)\n",
        "        converted_paths = convert_pdf_to_images(pdf_path, converted_directory)\n",
        "        image_paths.extend(converted_paths)\n",
        "\n",
        "print(image_paths)"
      ],
      "metadata": {
        "colab": {
          "base_uri": "https://localhost:8080/"
        },
        "id": "2ra6S0VNxT9f",
        "outputId": "3ee2b6f6-c856-4b11-a5d4-e30e2702480b"
      },
      "execution_count": 6,
      "outputs": [
        {
          "output_type": "stream",
          "name": "stdout",
          "text": [
            "Converted and saved: /content/converted_images/d98e9580-fd10-4e0b-bd4c-0855b40b253b_page_0.png\n",
            "Converted and saved: /content/converted_images/d98e9580-fd10-4e0b-bd4c-0855b40b253b_page_1.png\n",
            "['/content/converted_images/d98e9580-fd10-4e0b-bd4c-0855b40b253b_page_0.png', '/content/converted_images/d98e9580-fd10-4e0b-bd4c-0855b40b253b_page_1.png', '/content/908d00ff-87bc-4fc8-95dd-9d621265ddca.jpeg', '/content/Aadhar.png', '/content/61153ad9-f342-4164-947b-b03982a5fcab.jpeg', '/content/c638138d-dc91-43e2-83a3-a49776f025cb.jpeg']\n"
          ]
        }
      ]
    },
    {
      "cell_type": "code",
      "source": [
        "for img_path in image_paths:\n",
        "    recognize_text_with_correction(img_path)"
      ],
      "metadata": {
        "colab": {
          "base_uri": "https://localhost:8080/"
        },
        "id": "TqIrXb-tBEsP",
        "outputId": "a2b5b2f3-1225-4f58-df58-8ca0b3c34d14"
      },
      "execution_count": 11,
      "outputs": [
        {
          "output_type": "stream",
          "name": "stdout",
          "text": [
            "Image: /content/converted_images/d98e9580-fd10-4e0b-bd4c-0855b40b253b_page_0.png, Text: Passport\n",
            "Image: /content/converted_images/d98e9580-fd10-4e0b-bd4c-0855b40b253b_page_1.png, Text: Passport\n",
            "Image: /content/908d00ff-87bc-4fc8-95dd-9d621265ddca.jpeg, Text: Driving Licence\n",
            "Image: /content/Aadhar.png, Text: Aadhar Card\n",
            "Image: /content/61153ad9-f342-4164-947b-b03982a5fcab.jpeg, Text: Pan Card\n",
            "Image: /content/c638138d-dc91-43e2-83a3-a49776f025cb.jpeg, Text: Voter ID\n"
          ]
        }
      ]
    }
  ]
}